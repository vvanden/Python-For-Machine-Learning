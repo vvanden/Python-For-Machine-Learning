{
 "cells": [
  {
   "cell_type": "markdown",
   "metadata": {},
   "source": [
    "# Step 1\n",
    "Download the Dataset\n",
    "Download the dataset from the following link:\n",
    "https://www.kaggle.com/neuromusic/avocado-prices/"
   ]
  },
  {
   "cell_type": "markdown",
   "metadata": {},
   "source": [
    "# Step 2\n",
    "Read the Dataset\n",
    "Read the dataset into a Pandas Dataframe.\n",
    "Does the dataset include any missing values? If so, drop them.\n",
    "Hint: Pandas can do that with one line of code!"
   ]
  },
  {
   "cell_type": "code",
   "execution_count": 51,
   "metadata": {},
   "outputs": [],
   "source": [
    "import pandas as pd \n",
    "df = pd.read_csv(\"avocado.csv\").dropna()"
   ]
  },
  {
   "cell_type": "markdown",
   "metadata": {},
   "source": [
    "# Step 3\n",
    "Extract Features\n",
    "Exclude the region and date from the considered features."
   ]
  },
  {
   "cell_type": "code",
   "execution_count": 52,
   "metadata": {},
   "outputs": [],
   "source": [
    "df.drop(['Unnamed: 0', 'Date', 'region'], axis=1, inplace=True)"
   ]
  },
  {
   "cell_type": "markdown",
   "metadata": {},
   "source": [
    "# Step 4\n",
    "Perform Preprocessing\n",
    "Perform any needed pre-processing on the chosen features including:\n",
    "Scaling;\n",
    "Encoding; and\n",
    "Dealing with Nan values.\n",
    "Hint:\n",
    "Use only the preprocessing steps for this mini project."
   ]
  },
  {
   "cell_type": "code",
   "execution_count": 53,
   "metadata": {},
   "outputs": [],
   "source": [
    "#encode the \"Type\" column\n",
    "from sklearn.preprocessing import LabelEncoder\n",
    "df[\"type\"] = LabelEncoder().fit_transform(df[\"type\"])"
   ]
  },
  {
   "cell_type": "code",
   "execution_count": 54,
   "metadata": {},
   "outputs": [],
   "source": [
    "#assign input and output values (features/target)\n",
    "features = len(df.columns)\n",
    "X = df.iloc[:, 1:].values\n",
    "y = df.iloc[:, 0:1].values"
   ]
  },
  {
   "cell_type": "markdown",
   "metadata": {},
   "source": [
    "# Step 5\n",
    "Split the Data\n",
    "Split your data as follows:\n",
    "80% training set\n",
    "10% validation set\n",
    "10% test set"
   ]
  },
  {
   "cell_type": "code",
   "execution_count": 55,
   "metadata": {},
   "outputs": [],
   "source": [
    "from sklearn.preprocessing import StandardScaler\n",
    "scaler = StandardScaler()\n",
    "X_normalized = scaler.fit_transform(X)\n",
    "\n",
    "from sklearn.model_selection import train_test_split\n",
    "X_train, X_test, y_train, y_test = train_test_split(X_normalized, y, test_size = 0.2)\n",
    "X_validate, X_test, y_validate, y_test = train_test_split(X_test, y_test, test_size = 0.5)"
   ]
  },
  {
   "cell_type": "markdown",
   "metadata": {},
   "source": [
    "# Step 6\n",
    "Train KNN Regression\n",
    "Use a KNN regressor model to train your data.\n",
    "Choose the best k for the KNN algorithm by trying different values and validating performance on the validation set.\n",
    "Regression Metrics\n",
    "Print the R-squared score of your final KNN regressor."
   ]
  },
  {
   "cell_type": "code",
   "execution_count": 56,
   "metadata": {},
   "outputs": [
    {
     "name": "stdout",
     "output_type": "stream",
     "text": [
      "[0.67, 0.75, 0.77, 0.78, 0.77, 0.77, 0.77, 0.76, 0.76, 0.76, 0.76, 0.75, 0.75, 0.75, 0.74, 0.74, 0.74, 0.73, 0.73, 0.73, 0.73, 0.73, 0.72, 0.72, 0.72, 0.72, 0.72, 0.71, 0.71]\n",
      "Best k: 4\n"
     ]
    }
   ],
   "source": [
    "from sklearn.neighbors import KNeighborsRegressor\n",
    "model = KNeighborsRegressor(n_neighbors=8).fit(X_train, y_train)\n",
    "model.score(X_test, y_test)\n",
    "\n",
    "scores = []\n",
    "results = 0\n",
    "best_score = 0\n",
    "neighbours = range(1,30)\n",
    "\n",
    "for i in neighbours:\n",
    "    \n",
    "    knn = KNeighborsRegressor(n_neighbors=i).fit(X_train, y_train)\n",
    "\n",
    "    result = knn.score(X_test, y_test)\n",
    "    scores.append(round(result,2))\n",
    "\n",
    "    if result > best_score:\n",
    "        best_score = result\n",
    "        best_k = i\n",
    "        bestmodel = knn\n",
    "\n",
    "print(scores)\n",
    "print(\"Best k:\", best_k)"
   ]
  },
  {
   "cell_type": "code",
   "execution_count": 57,
   "metadata": {},
   "outputs": [
    {
     "data": {
      "text/plain": [
       "[<matplotlib.lines.Line2D at 0x2428a3e9810>]"
      ]
     },
     "execution_count": 57,
     "metadata": {},
     "output_type": "execute_result"
    },
    {
     "data": {
      "image/png": "[encoded data removed]",
      "text/plain": [
       "<Figure size 640x480 with 1 Axes>"
      ]
     },
     "metadata": {},
     "output_type": "display_data"
    }
   ],
   "source": [
    "import matplotlib.pyplot as plt\n",
    "plt.plot(neighbours, scores)"
   ]
  },
  {
   "cell_type": "code",
   "execution_count": 58,
   "metadata": {},
   "outputs": [
    {
     "name": "stdout",
     "output_type": "stream",
     "text": [
      "The best model has an accuracy of:  0.75\n"
     ]
    }
   ],
   "source": [
    "accuracy = bestmodel.score(X_validate, y_validate)\n",
    "print(\"The best model has an accuracy of: \", round(accuracy,2))"
   ]
  },
  {
   "cell_type": "markdown",
   "metadata": {},
   "source": [
    "# Step 7\n",
    "Challenge Yourself (Optional)\n",
    "Repeat step 6 for a different regression modelling technique."
   ]
  },
  {
   "cell_type": "code",
   "execution_count": 59,
   "metadata": {},
   "outputs": [
    {
     "name": "stdout",
     "output_type": "stream",
     "text": [
      "0.39720483706499043\n"
     ]
    }
   ],
   "source": [
    "#linear regression\n",
    "from sklearn.linear_model import LinearRegression\n",
    "modelLR = LinearRegression().fit(X_train, y_train)\n",
    "score = modelLR.score(X_test, y_test)\n",
    "print(score)"
   ]
  },
  {
   "cell_type": "code",
   "execution_count": 60,
   "metadata": {},
   "outputs": [
    {
     "name": "stdout",
     "output_type": "stream",
     "text": [
      "0.6966941841103498\n"
     ]
    }
   ],
   "source": [
    "#decision tree regressor\n",
    "from sklearn.ensemble import RandomForestRegressor\n",
    "modelRF = RandomForestRegressor(criterion=\"friedman_mse\", max_leaf_nodes=100).fit(X_train, y_train.ravel())\n",
    "score = modelRF.score(X_test, y_test)\n",
    "y_pred = modelRF.predict(X_test)\n",
    "print(score)"
   ]
  },
  {
   "cell_type": "code",
   "execution_count": 61,
   "metadata": {},
   "outputs": [
    {
     "name": "stdout",
     "output_type": "stream",
     "text": [
      "Accuracy:  0.6966941841103498\n",
      "MSE: 0.04924267214234482\n"
     ]
    }
   ],
   "source": [
    "from sklearn.metrics import mean_squared_error\n",
    "print(\"Accuracy: \", score)\n",
    "print(\"MSE: \" +str(mean_squared_error(y_test, y_pred)))"
   ]
  }
 ],
 "metadata": {
  "kernelspec": {
   "display_name": "Python 3.10.11 64-bit (microsoft store)",
   "language": "python",
   "name": "python3"
  },
  "language_info": {
   "codemirror_mode": {
    "name": "ipython",
    "version": 3
   },
   "file_extension": ".py",
   "mimetype": "text/x-python",
   "name": "python",
   "nbconvert_exporter": "python",
   "pygments_lexer": "ipython3",
   "version": "3.10.11"
  },
  "orig_nbformat": 4,
  "vscode": {
   "interpreter": {
    "hash": "f1beb742728b8755f50246d67aee65e2fe2541c1f205e01e33478bc7b87afcd7"
   }
  }
 },
 "nbformat": 4,
 "nbformat_minor": 2
}
