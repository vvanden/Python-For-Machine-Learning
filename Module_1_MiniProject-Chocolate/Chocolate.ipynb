{
 "cells": [
  {
   "cell_type": "markdown",
   "metadata": {},
   "source": [
    "Step 1.\n",
    "Download the Dataset\n",
    "Download the dataset from the following link:\n",
    "https://www.kaggle.com/rtatman/chocolate-bar-ratings\n",
    "Download the dataset to your local computer in the project directory of your choice."
   ]
  },
  {
   "cell_type": "markdown",
   "metadata": {},
   "source": [
    "Step 2.\n",
    "Reading the Dataset\n",
    "Read the dataset into a Pandas DataFrame!\n",
    "Does the dataset include any missing values? If so, delete the missing values entries!\n",
    "Hint: Pandas can do that with one line of code!"
   ]
  },
  {
   "cell_type": "code",
   "execution_count": null,
   "metadata": {},
   "outputs": [],
   "source": [
    "import pandas as pd\n",
    "df=pd.read_csv('flavors_of_cacao.csv').dropna()\n",
    "#cleaning up the column names\n",
    "df.columns = ['Company', 'SpecificBeanOrigin',\n",
    "       'REF', 'ReviewDate', 'CocoaPercent', 'CompanyLocation', 'Rating',\n",
    "       'BeanType', 'BroadBeanOrigin']"
   ]
  },
  {
   "cell_type": "markdown",
   "metadata": {},
   "source": [
    "Step 3:\n",
    "Q: How many tuples are there in the dataset?\n",
    "A: 1793"
   ]
  },
  {
   "cell_type": "code",
   "execution_count": null,
   "metadata": {},
   "outputs": [],
   "source": [
    "df_tuples = len(df)\n",
    "print(df_tuples)"
   ]
  },
  {
   "cell_type": "markdown",
   "metadata": {},
   "source": [
    "Step 3 (cont.):\n",
    "Q: How many unique company names are there in the dataset?\n",
    "A: 416"
   ]
  },
  {
   "cell_type": "code",
   "execution_count": null,
   "metadata": {},
   "outputs": [],
   "source": [
    "company_unique = len(df.Company.unique())\n",
    "print(company_unique)"
   ]
  },
  {
   "cell_type": "markdown",
   "metadata": {},
   "source": [
    "Step 3 (cont.):\n",
    "Q: How many reviews are made in 2013 in the dataset?\n",
    "A: 184"
   ]
  },
  {
   "cell_type": "code",
   "execution_count": null,
   "metadata": {},
   "outputs": [],
   "source": [
    "reviewdate_2013 = df.ReviewDate[df.ReviewDate == 2013].count()\n",
    "print(reviewdate_2013)"
   ]
  },
  {
   "cell_type": "markdown",
   "metadata": {},
   "source": [
    "Step 3 (cont.):\n",
    "Q: In the BeanType column, how many missing values are there?\n",
    "A: 887"
   ]
  },
  {
   "cell_type": "code",
   "execution_count": null,
   "metadata": {},
   "outputs": [],
   "source": [
    "beantype_missing = df.BeanType[df.BeanType == \"\\xa0\"].count()\n",
    "print(beantype_missing)"
   ]
  },
  {
   "cell_type": "markdown",
   "metadata": {},
   "source": [
    "Step 4:\n",
    "Q: Visualize the rating column with a histogram! Comment on the resulting figure!\n",
    "A: Most of the chocolate bars have a rating between 3 and 4, very few have ratings above 4 and fewer between 1 and 2."
   ]
  },
  {
   "cell_type": "code",
   "execution_count": null,
   "metadata": {},
   "outputs": [],
   "source": [
    "import matplotlib.pyplot as plt\n",
    "ratings = df.Rating.values\n",
    "plt.figure(figsize = (16,5))\n",
    "plt.hist(ratings, bins = 4, color = \"red\")\n",
    "plt.xlabel(\"Ratings\")"
   ]
  },
  {
   "cell_type": "markdown",
   "metadata": {},
   "source": [
    "Step 4 (cont.):\n",
    "Convert and Visualize\n",
    "Convert the Column Percent\n",
    "Change the type of values in the column percent from string values to numerical values."
   ]
  },
  {
   "cell_type": "code",
   "execution_count": null,
   "metadata": {},
   "outputs": [],
   "source": [
    "df[\"CocoaPercent\"] = df[\"CocoaPercent\"].str.replace(r'\\D',\"\").astype(int)"
   ]
  },
  {
   "cell_type": "markdown",
   "metadata": {},
   "source": [
    "Step 5:\n",
    "Visualize\n",
    "Plot the converted numerical Cocoa Percent values against the Rating values!\n",
    "Q: From what you see, does more cocoa in a bar correspond to a higher rating? Hint: Try a scatter plot with small alpha, e.g., 0.1, to flush out the density of each point.\n",
    "A: There appears to be no distinct relationship between more cocoa in a bar corresponsing to a higer rating."
   ]
  },
  {
   "cell_type": "code",
   "execution_count": null,
   "metadata": {},
   "outputs": [],
   "source": [
    "#removing values > than 100% as erroneous values\n",
    "df.drop(df[df.CocoaPercent > 100].index, inplace = True)\n",
    "ratings = df.Rating.values\n",
    "percent = df.CocoaPercent.values\n",
    "plt.figure(figsize = (16,5))\n",
    "plt.scatter(percent, ratings, color = \"red\", alpha = 0.1)\n",
    "plt.xlabel(\"Cocoa Percent\")"
   ]
  },
  {
   "cell_type": "markdown",
   "metadata": {},
   "source": [
    "Step 6:\n",
    "Normalization\n",
    "Normalize the Ratings Column and print the results."
   ]
  },
  {
   "cell_type": "code",
   "execution_count": null,
   "metadata": {},
   "outputs": [],
   "source": [
    "from sklearn.preprocessing import StandardScaler\n",
    "scaler = StandardScaler()\n",
    "x = df.iloc[:, 6:7].values\n",
    "x_normalized = scaler.fit_transform(x)\n",
    "print(x_normalized)"
   ]
  },
  {
   "cell_type": "markdown",
   "metadata": {},
   "source": [
    "Step 7:\n",
    "Challenge Yourself (Optional)\n",
    "List the companies ordered by their average score (averaged over each company’s reviews)."
   ]
  },
  {
   "cell_type": "code",
   "execution_count": null,
   "metadata": {},
   "outputs": [],
   "source": [
    "df.groupby(\"Company\")[\"Rating\"].agg([\"mean\"]).sort_values(by = \"mean\", ascending = False)"
   ]
  },
  {
   "cell_type": "markdown",
   "metadata": {},
   "source": [
    "Step 8:\n",
    "Encoding\n",
    "Suppose we are interested in the company’s names and locations for some collective analysis. Encode the two categorical columns with the encoder you think is best for the job!"
   ]
  },
  {
   "cell_type": "code",
   "execution_count": null,
   "metadata": {},
   "outputs": [],
   "source": [
    "from sklearn.preprocessing import OrdinalEncoder\n",
    "enc = OrdinalEncoder()\n",
    "df[[\"Company\", \"CompanyLocation\"]] = enc.fit_transform(df[[\"Company\", \"CompanyLocation\"]])\n",
    "print(df)"
   ]
  }
 ],
 "metadata": {
  "kernelspec": {
   "display_name": "Python 3.10.11 64-bit (microsoft store)",
   "language": "python",
   "name": "python3"
  },
  "language_info": {
   "codemirror_mode": {
    "name": "ipython",
    "version": 3
   },
   "file_extension": ".py",
   "mimetype": "text/x-python",
   "name": "python",
   "nbconvert_exporter": "python",
   "pygments_lexer": "ipython3",
   "version": "3.10.11"
  },
  "orig_nbformat": 4,
  "vscode": {
   "interpreter": {
    "hash": "f1beb742728b8755f50246d67aee65e2fe2541c1f205e01e33478bc7b87afcd7"
   }
  }
 },
 "nbformat": 4,
 "nbformat_minor": 2
}
