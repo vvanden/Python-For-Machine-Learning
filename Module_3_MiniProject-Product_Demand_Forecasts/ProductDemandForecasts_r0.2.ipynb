{
 "cells": [
  {
   "cell_type": "markdown",
   "metadata": {},
   "source": [
    "# Step 1 - Download the Dataset\n",
    "Download the Dataset from the following link:\n",
    "https://www.kaggle.com/felixzhao/productdemandforecasting"
   ]
  },
  {
   "cell_type": "markdown",
   "metadata": {},
   "source": [
    "# Step 2 - Read the Dataset\n",
    "Read the dataset into a Pandas Dataframe.\n",
    "Does the dataset include any missing values? If so, drop them.\n",
    "Hint: Pandas can do that with one line of code!"
   ]
  },
  {
   "cell_type": "code",
   "execution_count": null,
   "metadata": {},
   "outputs": [],
   "source": [
    "import pandas as pd \n",
    "df = pd.read_csv(\"Historical Product Demand.csv\")\n",
    "df.dropna(inplace=True)"
   ]
  },
  {
   "cell_type": "code",
   "execution_count": 16,
   "metadata": {},
   "outputs": [],
   "source": [
    "# Keep the first 100 rows and drop the rest - TESTING ONLY\n",
    "#df = df.head(5000)"
   ]
  },
  {
   "cell_type": "markdown",
   "metadata": {},
   "source": [
    "# Step 3 - Extract Features\n",
    "Exclude the region and date from the considered features.\n",
    "Hint: You can choose to use all the features."
   ]
  },
  {
   "cell_type": "code",
   "execution_count": 17,
   "metadata": {},
   "outputs": [
    {
     "data": {
      "text/html": [
       "<div>\n",
       "<style scoped>\n",
       "    .dataframe tbody tr th:only-of-type {\n",
       "        vertical-align: middle;\n",
       "    }\n",
       "\n",
       "    .dataframe tbody tr th {\n",
       "        vertical-align: top;\n",
       "    }\n",
       "\n",
       "    .dataframe thead th {\n",
       "        text-align: right;\n",
       "    }\n",
       "</style>\n",
       "<table border=\"1\" class=\"dataframe\">\n",
       "  <thead>\n",
       "    <tr style=\"text-align: right;\">\n",
       "      <th></th>\n",
       "      <th>Product_Code</th>\n",
       "      <th>Warehouse</th>\n",
       "      <th>Product_Category</th>\n",
       "      <th>Date</th>\n",
       "      <th>Order_Demand</th>\n",
       "    </tr>\n",
       "  </thead>\n",
       "  <tbody>\n",
       "    <tr>\n",
       "      <th>count</th>\n",
       "      <td>1037336</td>\n",
       "      <td>1037336</td>\n",
       "      <td>1037336</td>\n",
       "      <td>1037336</td>\n",
       "      <td>1037336</td>\n",
       "    </tr>\n",
       "    <tr>\n",
       "      <th>unique</th>\n",
       "      <td>2160</td>\n",
       "      <td>4</td>\n",
       "      <td>33</td>\n",
       "      <td>1729</td>\n",
       "      <td>3749</td>\n",
       "    </tr>\n",
       "    <tr>\n",
       "      <th>top</th>\n",
       "      <td>Product_1359</td>\n",
       "      <td>Whse_J</td>\n",
       "      <td>Category_019</td>\n",
       "      <td>2013/9/27</td>\n",
       "      <td>1000</td>\n",
       "    </tr>\n",
       "    <tr>\n",
       "      <th>freq</th>\n",
       "      <td>16936</td>\n",
       "      <td>764447</td>\n",
       "      <td>470266</td>\n",
       "      <td>2075</td>\n",
       "      <td>112263</td>\n",
       "    </tr>\n",
       "  </tbody>\n",
       "</table>\n",
       "</div>"
      ],
      "text/plain": [
       "        Product_Code Warehouse Product_Category       Date Order_Demand\n",
       "count        1037336   1037336          1037336    1037336      1037336\n",
       "unique          2160         4               33       1729         3749\n",
       "top     Product_1359    Whse_J     Category_019  2013/9/27        1000 \n",
       "freq           16936    764447           470266       2075       112263"
      ]
     },
     "execution_count": 17,
     "metadata": {},
     "output_type": "execute_result"
    }
   ],
   "source": [
    "# Description of the data\n",
    "df.describe()"
   ]
  },
  {
   "cell_type": "code",
   "execution_count": 18,
   "metadata": {},
   "outputs": [
    {
     "name": "stdout",
     "output_type": "stream",
     "text": [
      "<class 'pandas.core.frame.DataFrame'>\n",
      "Int64Index: 1037336 entries, 0 to 1048574\n",
      "Data columns (total 5 columns):\n",
      " #   Column            Non-Null Count    Dtype \n",
      "---  ------            --------------    ----- \n",
      " 0   Product_Code      1037336 non-null  object\n",
      " 1   Warehouse         1037336 non-null  object\n",
      " 2   Product_Category  1037336 non-null  object\n",
      " 3   Date              1037336 non-null  object\n",
      " 4   Order_Demand      1037336 non-null  object\n",
      "dtypes: object(5)\n",
      "memory usage: 47.5+ MB\n"
     ]
    }
   ],
   "source": [
    "df.info()"
   ]
  },
  {
   "cell_type": "markdown",
   "metadata": {},
   "source": [
    "# Step 4 - Perform Preprocessing\n",
    "Perform any needed pre-processing on the chosen features including:\n",
    "Scaling.\n",
    "Encoding.\n",
    "Dealing with Nan values.\n",
    "Hint:\n",
    "Use only the preprocessing steps you think are useful."
   ]
  },
  {
   "cell_type": "code",
   "execution_count": 19,
   "metadata": {},
   "outputs": [
    {
     "name": "stdout",
     "output_type": "stream",
     "text": [
      "Number of attributes with null vaules:  0\n",
      "Percentage of missing values:  0.0\n"
     ]
    }
   ],
   "source": [
    "# finding the percentage of missing value\n",
    "print(\"Number of attributes with null vaules: \", df.isnull().any().sum())\n",
    "print(\"Percentage of missing values: \",df.isnull().any(axis=1).sum()/len(df)*100)"
   ]
  },
  {
   "cell_type": "code",
   "execution_count": 20,
   "metadata": {},
   "outputs": [],
   "source": [
    "#encode the column\n",
    "from sklearn.preprocessing import LabelEncoder\n",
    "label_encoder = LabelEncoder()\n",
    "df[\"Product_Code\"] = label_encoder.fit_transform(df['Product_Code'])\n",
    "df = pd.get_dummies(df, columns=['Warehouse', 'Product_Category'])\n",
    "\n",
    "# Drop rows with data we don't want from the feature matrix\n",
    "df.drop('Date', axis=1, inplace=True)"
   ]
  },
  {
   "cell_type": "code",
   "execution_count": 21,
   "metadata": {},
   "outputs": [
    {
     "name": "stdout",
     "output_type": "stream",
     "text": [
      "Some values in the DataFrame are not numbers.\n",
      "Rows with non-numeric values:\n",
      "         Product_Code Order_Demand  Warehouse_Whse_A  Warehouse_Whse_C  \\\n",
      "112290           2156          (1)                 1                 0   \n",
      "112307           2119         (24)                 1                 0   \n",
      "112308           2131         (24)                 1                 0   \n",
      "112356           2105         (50)                 1                 0   \n",
      "112357           2107        (100)                 1                 0   \n",
      "...               ...          ...               ...               ...   \n",
      "1047812          1875        (100)                 0                 0   \n",
      "1047840            91        (400)                 0                 0   \n",
      "1047855           685        (230)                 0                 0   \n",
      "1047856           686        (230)                 0                 0   \n",
      "1047857           687        (270)                 0                 0   \n",
      "\n",
      "         Warehouse_Whse_J  Warehouse_Whse_S  Product_Category_Category_001  \\\n",
      "112290                  0                 0                              0   \n",
      "112307                  0                 0                              0   \n",
      "112308                  0                 0                              0   \n",
      "112356                  0                 0                              0   \n",
      "112357                  0                 0                              0   \n",
      "...                   ...               ...                            ...   \n",
      "1047812                 1                 0                              0   \n",
      "1047840                 1                 0                              0   \n",
      "1047855                 1                 0                              0   \n",
      "1047856                 1                 0                              0   \n",
      "1047857                 1                 0                              0   \n",
      "\n",
      "         Product_Category_Category_002  Product_Category_Category_003  \\\n",
      "112290                               0                              0   \n",
      "112307                               0                              0   \n",
      "112308                               0                              0   \n",
      "112356                               0                              0   \n",
      "112357                               0                              0   \n",
      "...                                ...                            ...   \n",
      "1047812                              0                              0   \n",
      "1047840                              0                              0   \n",
      "1047855                              0                              0   \n",
      "1047856                              0                              0   \n",
      "1047857                              0                              0   \n",
      "\n",
      "         Product_Category_Category_004  ...  Product_Category_Category_024  \\\n",
      "112290                               0  ...                              1   \n",
      "112307                               0  ...                              0   \n",
      "112308                               0  ...                              0   \n",
      "112356                               0  ...                              0   \n",
      "112357                               0  ...                              0   \n",
      "...                                ...  ...                            ...   \n",
      "1047812                              0  ...                              0   \n",
      "1047840                              0  ...                              0   \n",
      "1047855                              0  ...                              0   \n",
      "1047856                              0  ...                              0   \n",
      "1047857                              0  ...                              0   \n",
      "\n",
      "         Product_Category_Category_025  Product_Category_Category_026  \\\n",
      "112290                               0                              0   \n",
      "112307                               0                              0   \n",
      "112308                               0                              0   \n",
      "112356                               0                              0   \n",
      "112357                               0                              0   \n",
      "...                                ...                            ...   \n",
      "1047812                              0                              0   \n",
      "1047840                              0                              0   \n",
      "1047855                              0                              0   \n",
      "1047856                              0                              0   \n",
      "1047857                              0                              0   \n",
      "\n",
      "         Product_Category_Category_027  Product_Category_Category_028  \\\n",
      "112290                               0                              0   \n",
      "112307                               0                              0   \n",
      "112308                               0                              0   \n",
      "112356                               0                              0   \n",
      "112357                               0                              0   \n",
      "...                                ...                            ...   \n",
      "1047812                              0                              0   \n",
      "1047840                              0                              0   \n",
      "1047855                              0                              0   \n",
      "1047856                              0                              0   \n",
      "1047857                              0                              0   \n",
      "\n",
      "         Product_Category_Category_029  Product_Category_Category_030  \\\n",
      "112290                               0                              0   \n",
      "112307                               0                              0   \n",
      "112308                               0                              0   \n",
      "112356                               0                              0   \n",
      "112357                               0                              0   \n",
      "...                                ...                            ...   \n",
      "1047812                              0                              0   \n",
      "1047840                              0                              0   \n",
      "1047855                              0                              0   \n",
      "1047856                              0                              0   \n",
      "1047857                              0                              0   \n",
      "\n",
      "         Product_Category_Category_031  Product_Category_Category_032  \\\n",
      "112290                               0                              0   \n",
      "112307                               0                              0   \n",
      "112308                               0                              0   \n",
      "112356                               0                              0   \n",
      "112357                               0                              0   \n",
      "...                                ...                            ...   \n",
      "1047812                              0                              0   \n",
      "1047840                              0                              0   \n",
      "1047855                              0                              0   \n",
      "1047856                              0                              0   \n",
      "1047857                              0                              0   \n",
      "\n",
      "         Product_Category_Category_033  \n",
      "112290                               0  \n",
      "112307                               0  \n",
      "112308                               0  \n",
      "112356                               0  \n",
      "112357                               0  \n",
      "...                                ...  \n",
      "1047812                              0  \n",
      "1047840                              0  \n",
      "1047855                              0  \n",
      "1047856                              0  \n",
      "1047857                              0  \n",
      "\n",
      "[5899 rows x 39 columns]\n"
     ]
    }
   ],
   "source": [
    "# Check if all values in the DataFrame are numbers\n",
    "all_numeric = pd.to_numeric(df.stack(), errors='coerce').notnull().all()\n",
    "\n",
    "if all_numeric:\n",
    "    print(\"All values in the DataFrame are numbers.\")\n",
    "else:\n",
    "    print(\"Some values in the DataFrame are not numbers.\")\n",
    "\n",
    "    # Convert each column to numeric format\n",
    "    numeric_df = df.apply(pd.to_numeric, errors='coerce')\n",
    "\n",
    "    # Find rows with non-numeric values\n",
    "    non_numeric_rows = df[numeric_df.isna().any(axis=1)]\n",
    "\n",
    "    print(\"Rows with non-numeric values:\")\n",
    "    print(non_numeric_rows)"
   ]
  },
  {
   "cell_type": "code",
   "execution_count": 22,
   "metadata": {},
   "outputs": [
    {
     "name": "stdout",
     "output_type": "stream",
     "text": [
      "DataFrame with non-numeric rows dropped in place:\n"
     ]
    }
   ],
   "source": [
    "# Convert each column to numeric format\n",
    "df = df.apply(pd.to_numeric, errors='coerce')\n",
    "\n",
    "# Find rows with non-numeric values\n",
    "non_numeric_rows = df.isna().any(axis=1)\n",
    "\n",
    "# Drop rows with non-numeric values in place\n",
    "df.drop(df[non_numeric_rows].index, inplace=True)\n",
    "\n",
    "print(\"DataFrame with non-numeric rows dropped in place:\")"
   ]
  },
  {
   "cell_type": "code",
   "execution_count": 23,
   "metadata": {},
   "outputs": [],
   "source": [
    "#pull only 'order demand'\n",
    "y = df[\"Order_Demand\"]\n",
    "\n",
    "#drop 'order demand'\n",
    "df.drop('Order_Demand', axis=1, inplace=True)\n",
    "\n",
    "#pull all columns\n",
    "X = df.values"
   ]
  },
  {
   "cell_type": "code",
   "execution_count": 24,
   "metadata": {},
   "outputs": [],
   "source": [
    "from sklearn.preprocessing import StandardScaler\n",
    "scaler = StandardScaler()\n",
    "X_normalized = scaler.fit_transform(X)"
   ]
  },
  {
   "cell_type": "markdown",
   "metadata": {},
   "source": [
    "# Step 5 - Split the Data\n",
    "Split your data as follows:\n",
    "80% training set\n",
    "10% validation set\n",
    "10% test set"
   ]
  },
  {
   "cell_type": "code",
   "execution_count": 25,
   "metadata": {},
   "outputs": [],
   "source": [
    "from sklearn.model_selection import train_test_split\n",
    "X_train, X_test, y_train, y_test = train_test_split(X_normalized, y, test_size = 0.2)\n",
    "X_validate, X_test, y_validate, y_test = train_test_split(X_test, y_test, test_size = 0.5)"
   ]
  },
  {
   "cell_type": "markdown",
   "metadata": {},
   "source": [
    "# Step 6 - Training K-Nearest Neighbor (KNN) Regression\n",
    "Use a KNN regressor model to train your data.\n",
    "Choose the best k for the KNN algorithm by trying different values and validating performance on the validation set.\n",
    "Regression Metrics\n",
    "Print the R-squared score of your final KNN regressor."
   ]
  },
  {
   "cell_type": "code",
   "execution_count": 26,
   "metadata": {},
   "outputs": [
    {
     "name": "stdout",
     "output_type": "stream",
     "text": [
      "K: 1, score: -0.01717426389163701, best: 0\n",
      "K: 2, score: 0.1323922232056347, best: 0\n",
      "K: 3, score: 0.1294302261308261, best: 0.1323922232056347\n",
      "K: 4, score: 0.14239918579751587, best: 0.1323922232056347\n",
      "K: 5, score: 0.17562947955292452, best: 0.14239918579751587\n",
      "K: 6, score: 0.11246956590288104, best: 0.17562947955292452\n",
      "K: 7, score: 0.1508828002077982, best: 0.17562947955292452\n",
      "K: 8, score: 0.15264348801330319, best: 0.17562947955292452\n",
      "K: 9, score: 0.1680030200564424, best: 0.17562947955292452\n",
      "[-0.017, 0.132, 0.129, 0.142, 0.176, 0.112, 0.151, 0.153, 0.168]\n",
      "Best score:  0.17562947955292452\n",
      "Best k: 5\n"
     ]
    }
   ],
   "source": [
    "import time\n",
    "from sklearn.neighbors import KNeighborsRegressor \n",
    "\n",
    "scores = []\n",
    "best_score = 0\n",
    "neighbours = range(1,10)\n",
    "best_k = 0\n",
    "start_time = time.time()\n",
    "\n",
    "for i in neighbours:\n",
    "    \n",
    "    model = KNeighborsRegressor(n_neighbors=i)\n",
    "    model.fit(X_train, y_train)\n",
    "\n",
    "    score = model.score(X_test, y_test)\n",
    "    scores.append(round(score,3))\n",
    "    y_pred = model.predict(X_test)\n",
    "\n",
    "    # Calculate the elapsed time\n",
    "    elapsed_time = time.time() - start_time\n",
    "    print(f\"K: {i}, score: {round(score,3)}, best: {round(best_score,3)}, time: {elapsed_time}\")\n",
    "\n",
    "    if score > best_score:\n",
    "        best_score = score\n",
    "        best_k = i\n",
    "        best_knn = model\n",
    "\n",
    "print(scores)\n",
    "print(\"Best score: \", best_score)\n",
    "print(\"Best k:\", best_k)"
   ]
  },
  {
   "cell_type": "code",
   "execution_count": 27,
   "metadata": {},
   "outputs": [
    {
     "data": {
      "text/plain": [
       "[<matplotlib.lines.Line2D at 0x23b5bb43ac0>]"
      ]
     },
     "execution_count": 27,
     "metadata": {},
     "output_type": "execute_result"
    },
    {
     "data": {
      "image/png": "[encoded data removed]",
      "text/plain": [
       "<Figure size 640x480 with 1 Axes>"
      ]
     },
     "metadata": {},
     "output_type": "display_data"
    }
   ],
   "source": [
    "import matplotlib.pyplot as plt\n",
    "plt.plot(neighbours, scores)"
   ]
  },
  {
   "cell_type": "markdown",
   "metadata": {},
   "source": [
    "# Step 7 - Challenge Yourself (Optional)\n",
    "Repeat step 6 for a different regression modelling technique."
   ]
  }
 ],
 "metadata": {
  "kernelspec": {
   "display_name": "Python 3.10.11 64-bit (microsoft store)",
   "language": "python",
   "name": "python3"
  },
  "language_info": {
   "codemirror_mode": {
    "name": "ipython",
    "version": 3
   },
   "file_extension": ".py",
   "mimetype": "text/x-python",
   "name": "python",
   "nbconvert_exporter": "python",
   "pygments_lexer": "ipython3",
   "version": "3.10.11"
  },
  "orig_nbformat": 4,
  "vscode": {
   "interpreter": {
    "hash": "f1beb742728b8755f50246d67aee65e2fe2541c1f205e01e33478bc7b87afcd7"
   }
  }
 },
 "nbformat": 4,
 "nbformat_minor": 2
}
