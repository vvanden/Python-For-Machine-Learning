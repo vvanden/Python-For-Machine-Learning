{
 "cells": [
  {
   "cell_type": "markdown",
   "metadata": {},
   "source": [
    "Step 1:\n",
    "# Download the Dataset\n",
    "Download the dataset from the following link:\n",
    "https://www.kaggle.com/uciml/breast-cancer-wisconsin-data/download\n",
    "Download the dataset to your local computer in the project directory of your choice."
   ]
  },
  {
   "cell_type": "markdown",
   "metadata": {},
   "source": [
    "Step 2:\n",
    "# Reading the Dataset\n",
    "Read the dataset into the Pandas’ DataFrame!\n",
    "Does the dataset include any missing values? If so, delete the missing values entries!\n",
    "Hint: Pandas can do that with one line of code!"
   ]
  },
  {
   "cell_type": "code",
   "execution_count": 59,
   "metadata": {},
   "outputs": [],
   "source": [
    "import pandas as pd\n",
    "df=pd.read_csv('data.csv')"
   ]
  },
  {
   "cell_type": "markdown",
   "metadata": {},
   "source": [
    "Step 3:\n",
    "# Dropping Unnecessary Columns\n",
    "Choose the features you think are relevant to our analysis! There are a lot of features in this dataset, but we have to make our model’s training time reasonable for you.\n",
    "Hint: notice the fact that some of the data in the Breast Cancer dataset is irrelevant to the research such as the ID attribute."
   ]
  },
  {
   "cell_type": "code",
   "execution_count": 60,
   "metadata": {},
   "outputs": [],
   "source": [
    "\n",
    "df.drop('id', axis=1, inplace=True)\n",
    "df.drop('Unnamed: 32', axis=1, inplace=True)\n"
   ]
  },
  {
   "cell_type": "markdown",
   "metadata": {},
   "source": [
    "Step 4:\n",
    "# Preprocessing\n",
    "Perform any needed pre-processing on the chosen features, including:\n",
    "Scaling\n",
    "Encoding\n",
    "Dealing with NaN values\n",
    "Normalization\n",
    "Note:\n",
    "You need to output the result of your pre-processing to an output CSV called “data_refined.csv.”"
   ]
  },
  {
   "cell_type": "code",
   "execution_count": 61,
   "metadata": {},
   "outputs": [],
   "source": [
    "from sklearn.preprocessing import StandardScaler\n",
    "data_columns = df.columns[df.columns != 'diagnosis']\n",
    "scaler = StandardScaler()\n",
    "df[data_columns] = scaler.fit_transform(df[data_columns])"
   ]
  },
  {
   "cell_type": "code",
   "execution_count": 62,
   "metadata": {},
   "outputs": [],
   "source": [
    "from sklearn.preprocessing import OneHotEncoder\n",
    "onehot_encoder = OneHotEncoder()\n",
    "encoded_data = onehot_encoder.fit_transform(df[['diagnosis']])\n",
    "encoded_df = pd.DataFrame(encoded_data.toarray(), columns=['benign', 'malignant '])\n",
    "encoded_df = pd.concat([encoded_df, df.iloc[:, 1:]], axis=1)"
   ]
  },
  {
   "cell_type": "code",
   "execution_count": 69,
   "metadata": {},
   "outputs": [
    {
     "name": "stdout",
     "output_type": "stream",
     "text": [
      "There are no NaN values in the DataFrame.\n"
     ]
    }
   ],
   "source": [
    "has_nan_values = encoded_df.isna().any().any()\n",
    "if has_nan_values:\n",
    "    print(\"There are NaN values in the DataFrame.\")\n",
    "else:\n",
    "    print(\"There are no NaN values in the DataFrame.\")"
   ]
  },
  {
   "cell_type": "code",
   "execution_count": 70,
   "metadata": {},
   "outputs": [],
   "source": [
    "encoded_df.to_csv('data_refined.csv', index=False)"
   ]
  },
  {
   "cell_type": "markdown",
   "metadata": {},
   "source": [
    "Step 5:\n",
    "# Visualization\n",
    "You need to deliver a number of visualizations for your dataset, including:\n",
    "Pair plots for the features\n",
    "Correlation matrix heat map\n",
    "Box plots for the features\n",
    "Note:\n",
    "Feel free to add the visualizations that you like!"
   ]
  }
 ],
 "metadata": {
  "kernelspec": {
   "display_name": "Python 3.10.11 64-bit (microsoft store)",
   "language": "python",
   "name": "python3"
  },
  "language_info": {
   "codemirror_mode": {
    "name": "ipython",
    "version": 3
   },
   "file_extension": ".py",
   "mimetype": "text/x-python",
   "name": "python",
   "nbconvert_exporter": "python",
   "pygments_lexer": "ipython3",
   "version": "3.10.11"
  },
  "orig_nbformat": 4,
  "vscode": {
   "interpreter": {
    "hash": "f1beb742728b8755f50246d67aee65e2fe2541c1f205e01e33478bc7b87afcd7"
   }
  }
 },
 "nbformat": 4,
 "nbformat_minor": 2
}
